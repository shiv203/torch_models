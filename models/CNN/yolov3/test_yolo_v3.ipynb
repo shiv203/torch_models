{
 "cells": [
  {
   "cell_type": "code",
   "execution_count": 1,
   "id": "popular-variety",
   "metadata": {},
   "outputs": [],
   "source": [
    "import torch\n",
    "from torch import nn"
   ]
  },
  {
   "cell_type": "code",
   "execution_count": 2,
   "metadata": {},
   "outputs": [
    {
     "data": {
      "text/plain": [
       "'1.12.1+cu102'"
      ]
     },
     "execution_count": 2,
     "metadata": {},
     "output_type": "execute_result"
    }
   ],
   "source": [
    "torch.__version__"
   ]
  },
  {
   "cell_type": "code",
   "execution_count": 86,
   "id": "usual-preliminary",
   "metadata": {},
   "outputs": [],
   "source": [
    "class ConvLayers(nn.Module):\n",
    "    \"\"\" \n",
    "        Conv layers with batchnorm and activation layers\n",
    "    \"\"\"\n",
    "    def __init__(self, input_ch, output_ch, kernel_size, stride, padding=1):\n",
    "        super(ConvLayers, self).__init__()\n",
    "        if kernel_size == 1:\n",
    "            self.conv_layer = nn.Conv2d(input_ch, output_ch, kernel_size=kernel_size, stride=stride)\n",
    "        else:\n",
    "            self.conv_layer = nn.Conv2d(input_ch, output_ch, kernel_size=kernel_size, stride=stride, padding=padding)\n",
    "        self.norm = nn.BatchNorm2d(output_ch)\n",
    "        self.act = nn.GELU()\n",
    "\n",
    "    def forward(self, x):\n",
    "        return self.act(self.norm(self.conv_layer(x)))\n",
    "\n",
    "\n",
    "class ConvLayers_1(nn.Module):\n",
    "    \"\"\" \n",
    "        Conv layers with batchnorm and activation layers\n",
    "    \"\"\"\n",
    "    def __init__(self, input_ch, output_ch, kernel_size, stride):\n",
    "        super(ConvLayers_1, self).__init__()\n",
    "        if stride == 2:\n",
    "            self.conv_layer = nn.Conv2d(input_ch, output_ch, kernel_size=kernel_size, stride=stride)\n",
    "        else:\n",
    "            self.conv_layer = nn.Conv2d(input_ch, output_ch, kernel_size=kernel_size, stride=stride, padding=\"same\")\n",
    "        self.norm = nn.BatchNorm2d(output_ch)\n",
    "        self.act = nn.GELU()\n",
    "\n",
    "    def forward(self, x):\n",
    "        return self.act(self.norm(self.conv_layer(x)))\n",
    "\n",
    "\n",
    "class ConvBlock(nn.Module):\n",
    "    \"\"\" Conv block with residual connections \n",
    "    \"\"\"\n",
    "    def __init__(self, list_conv_layers, num_repeat):\n",
    "        super(ConvBlock, self).__init__()\n",
    "        self.repeat = num_repeat\n",
    "        temp_conv_layers = []\n",
    "        for layer in list_conv_layers:\n",
    "            temp_conv_layers.append(ConvLayers(layer[0], layer[1], layer[2], layer[3]))\n",
    "        self.conv_layers = nn.Sequential(*temp_conv_layers)\n",
    "\n",
    "    def forward(self, x):\n",
    "        x_ = x\n",
    "        for _ in range(self.repeat):\n",
    "            x = self.conv_layers(x)\n",
    "        return x + x_\n",
    "\n",
    "\n",
    "class DarkNetHead(nn.Module):\n",
    "\n",
    "    def __init__(self, model_parameters):\n",
    "        super(DarkNetHead, self).__init__()\n",
    "        temp_layers = []\n",
    "        for layers in model_parameters:\n",
    "            if layers[0] == \"cl\":\n",
    "                temp_layers.append(ConvLayers_1(layers[1], layers[2], layers[3], layers[4]))\n",
    "            elif layers[0] == \"cb\":\n",
    "                temp_layers.append(ConvBlock(layers[1], layers[2]))\n",
    "        self.conv_layers = nn.Sequential(*temp_layers)\n",
    "\n",
    "    def forward(self, x):\n",
    "        return self.conv_layers(x)\n",
    "\n",
    "\n",
    "\n",
    "\n",
    "model_parameters = [\n",
    "    (\"cl\", 3, 32, 3, 1),\n",
    "    (\"cl\", 32, 64, 3, 2),\n",
    "    (\"cb\", [(64, 32, 1, 1), (32, 64, 3, 1)], 1),\n",
    "    (\"cl\", 64, 128, 3, 2),\n",
    "    (\"cb\", [(128, 64, 1, 1), (64, 128, 3, 1)], 2),\n",
    "    (\"cl\", 128, 256, 3, 2),\n",
    "    (\"cb\", [(256, 128, 1, 1), (128, 256, 3, 1)], 8),\n",
    "    (\"cl\", 256, 512, 3, 2),\n",
    "    (\"cb\", [(512, 256, 1, 1), (256, 512, 3, 1)], 8),\n",
    "    (\"cl\", 512, 1024, 3, 2),\n",
    "    (\"cb\", [(1024, 512, 1, 1), (512, 1024, 3, 1)], 4)\n",
    "]\n",
    "\n"
   ]
  },
  {
   "cell_type": "code",
   "execution_count": 87,
   "metadata": {},
   "outputs": [
    {
     "name": "stdout",
     "output_type": "stream",
     "text": [
      "torch.Size([4, 32, 256, 256])\n",
      "torch.Size([4, 64, 256, 256])\n"
     ]
    }
   ],
   "source": [
    "conv1 = ConvLayers_1(64, 32, 1, 1)\n",
    "conv2 = ConvLayers_1(32, 64, 7, 1)\n",
    "inp = torch.rand((4, 64, 256, 256))\n",
    "inp1 = conv1(inp)\n",
    "print(inp1.shape)\n",
    "inp2 = conv2(inp1)\n",
    "print(inp2.shape)"
   ]
  },
  {
   "cell_type": "code",
   "execution_count": 88,
   "metadata": {},
   "outputs": [],
   "source": [
    "inp = torch.rand((4, 3, 256, 256))"
   ]
  },
  {
   "cell_type": "code",
   "execution_count": 89,
   "metadata": {},
   "outputs": [],
   "source": [
    "model = DarkNetHead(model_parameters)"
   ]
  },
  {
   "cell_type": "code",
   "execution_count": 90,
   "metadata": {},
   "outputs": [
    {
     "data": {
      "text/plain": [
       "torch.Size([4, 1024, 7, 7])"
      ]
     },
     "execution_count": 90,
     "metadata": {},
     "output_type": "execute_result"
    }
   ],
   "source": [
    "out = model(inp)\n",
    "out.shape"
   ]
  },
  {
   "cell_type": "code",
   "execution_count": null,
   "metadata": {},
   "outputs": [],
   "source": [
    "p1 = 48\n",
    "p2 = 72\n",
    "p3 = 96\n",
    "p4 = 6\n",
    "\n",
    "pool w \n",
    "\n",
    "p1  48 = w \n",
    "p2 "
   ]
  },
  {
   "cell_type": "code",
   "execution_count": null,
   "metadata": {},
   "outputs": [],
   "source": [
    "p1 = w/48\n",
    "\n",
    "p2 w/72\n",
    "p3 w/96\n",
    "\n",
    "p4 w/6\n",
    "\n",
    "w/()"
   ]
  },
  {
   "cell_type": "code",
   "execution_count": 94,
   "metadata": {},
   "outputs": [
    {
     "data": {
      "text/plain": [
       "48.0"
      ]
     },
     "execution_count": 94,
     "metadata": {},
     "output_type": "execute_result"
    }
   ],
   "source": [
    "\n",
    "288/6"
   ]
  },
  {
   "cell_type": "code",
   "execution_count": 95,
   "metadata": {},
   "outputs": [
    {
     "data": {
      "text/plain": [
       "0.21180555555555555"
      ]
     },
     "execution_count": 95,
     "metadata": {},
     "output_type": "execute_result"
    }
   ],
   "source": [
    "(6 + 4 + 3 + 48)/288"
   ]
  },
  {
   "cell_type": "code",
   "execution_count": 96,
   "metadata": {},
   "outputs": [
    {
     "data": {
      "text/plain": [
       "4.721311475409836"
      ]
     },
     "execution_count": 96,
     "metadata": {},
     "output_type": "execute_result"
    }
   ],
   "source": [
    "288/(6+4+3+48)"
   ]
  },
  {
   "cell_type": "code",
   "execution_count": 97,
   "metadata": {},
   "outputs": [
    {
     "data": {
      "text/plain": [
       "4.721311475409836"
      ]
     },
     "execution_count": 97,
     "metadata": {},
     "output_type": "execute_result"
    }
   ],
   "source": [
    "288/61"
   ]
  },
  {
   "cell_type": "code",
   "execution_count": null,
   "metadata": {},
   "outputs": [],
   "source": []
  }
 ],
 "metadata": {
  "interpreter": {
   "hash": "743f57b7bc7c41e76c22e315820aa88d3233c2a2ed8f0a7f9f0bd9615bf41eb1"
  },
  "kernelspec": {
   "display_name": "Python 3.8.10 64-bit ('yolov5': conda)",
   "name": "python3"
  },
  "language_info": {
   "codemirror_mode": {
    "name": "ipython",
    "version": 3
   },
   "file_extension": ".py",
   "mimetype": "text/x-python",
   "name": "python",
   "nbconvert_exporter": "python",
   "pygments_lexer": "ipython3",
   "version": "3.8.10"
  }
 },
 "nbformat": 4,
 "nbformat_minor": 5
}
