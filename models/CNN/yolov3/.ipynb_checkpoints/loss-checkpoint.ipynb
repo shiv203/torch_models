{
 "cells": [
  {
   "cell_type": "code",
   "execution_count": 68,
   "id": "neutral-edwards",
   "metadata": {},
   "outputs": [],
   "source": [
    "import torch\n",
    "import torch.nn as nn\n",
    "\n",
    "def iou(pred, target):\n",
    "    \n",
    "    b1_x1 = pred[...,0:1]\n",
    "    b1_y1 = pred[...,1:2]\n",
    "    b1_x2 = pred[...,2:3]\n",
    "    b1_y2 = pred[...,3:4]\n",
    "    \n",
    "    b2_x1 = pred[...,0:1]\n",
    "    b2_y1 = pred[...,1:2]\n",
    "    b2_x2 = pred[...,2:3]\n",
    "    b2_y2 = pred[...,3:4]\n",
    "    \n",
    "    x1 = torch.max(b1_x1, b2_x2)\n",
    "    y1 = torch.max(b1_y1, b2_y1)\n",
    "    x2 = torch.min(b1_x2, b2_x2)\n",
    "    y2 = torch.min(b1_y2, b2_y2)\n",
    "    \n",
    "    inter = (x2 - x2).clamp(0) * (y2 - y1).clamp(0)\n",
    "    \n",
    "    b1 = torch.abs((b1_x2 - b1_x1) * (b1_y2 - b1_y1))\n",
    "    b2 = torch.abs((b2_x2 - b2_x1) * (b2_y2 - b2_y1))\n",
    "    \n",
    "    iou = inter/(b1 + b2 - inter + 1e-6)\n",
    "    return iou\n",
    "\n",
    "\n",
    "\n",
    "class Loss(nn.Module):\n",
    "    \n",
    "    def __init__(self):\n",
    "        super(Loss, self).__init__()\n",
    "        self.mse = nn.MSELoss() \n",
    "        self.bce = nn.BCEWithLogitsLoss()\n",
    "        self.ce =  nn.CrossEntropyLoss()\n",
    "        self.sigmoid = nn.Sigmoid()\n",
    "        \n",
    "        self.l_class = 1\n",
    "        self.l_noobj = 10\n",
    "        self.l_obj = 1\n",
    "        self.l_box = 10\n",
    "        \n",
    "    def forward(self, pred, target, anchors):\n",
    "        ## pred shape = s,s,5+number of class, target s,s,6\n",
    "        obj_present = target[..., 0] > 0.5\n",
    "        obj_absent = target[..., 0] <= 0.5\n",
    "\n",
    "        print(pred.shape, target.shape, obj_present.shape, obj_absent.shape)\n",
    "        ## no object loss\n",
    "        no_object_loss = self.bce(pred[..., 0:1][obj_absent], target[..., 0:1][obj_absent])\n",
    "        \n",
    "        ## class loss\n",
    "        class_loss = self.ce(pred[...,5:][obj_present], target[...,5][obj_present].long())\n",
    "        \n",
    "        ## object_loss\n",
    "        anchors = anchors.reshape(1,3,1,1,2)\n",
    "        box_pred = torch.cat([self.sigmoid(pred[...,1:3][obj_present]), (torch.exp(pred[...,3:5])[obj_present] *anchors)], dim=-1)\n",
    "        ious = iou(box_pred[obj_present], target[...,1:5][obj_present])\n",
    "        object_loss = self.mse(self.sigmoid(pred[...,0:1][obj_present]), ious*target[...,0:1])\n",
    "            \n",
    "            \n",
    "        ## coord_loss\n",
    "        pred[...,1:3] = self.sigmoid(pred[...,1:3])\n",
    "        target[...,3:5] = torch.log(1e-10  + target[...,3:5]/anchors)\n",
    "        coord_loss = self.mse(pred[...,1:5][obj_present], target[...,1:5][obj_present])\n",
    "        \n",
    "        \n",
    "        loss = self.l_noobj * no_object_loss + self.l_class * class_loss + self.l_obj * object_loss + self.l_box * coord_loss\n",
    "        \n",
    "        return loss\n",
    "        \n",
    "\n",
    "## implement yolov3 loss"
   ]
  },
  {
   "cell_type": "code",
   "execution_count": 69,
   "id": "governmental-clerk",
   "metadata": {},
   "outputs": [],
   "source": [
    "loss = Loss()"
   ]
  },
  {
   "cell_type": "code",
   "execution_count": 70,
   "id": "opened-lighting",
   "metadata": {},
   "outputs": [],
   "source": [
    "pred = torch.rand((4,3,5,5,10))\n",
    "target = torch.rand((4,3,5,5,6))\n",
    "anchor = torch.rand((3,2))"
   ]
  },
  {
   "cell_type": "code",
   "execution_count": 71,
   "id": "postal-glenn",
   "metadata": {},
   "outputs": [
    {
     "name": "stdout",
     "output_type": "stream",
     "text": [
      "torch.Size([4, 3, 5, 5, 10]) torch.Size([4, 3, 5, 5, 6]) torch.Size([4, 3, 5, 5]) torch.Size([4, 3, 5, 5])\n"
     ]
    },
    {
     "ename": "IndexError",
     "evalue": "too many indices for tensor of dimension 2",
     "output_type": "error",
     "traceback": [
      "\u001b[0;31m---------------------------------------------------------------------------\u001b[0m",
      "\u001b[0;31mIndexError\u001b[0m                                Traceback (most recent call last)",
      "\u001b[0;32m<ipython-input-71-ee09b5f63b99>\u001b[0m in \u001b[0;36m<module>\u001b[0;34m\u001b[0m\n\u001b[0;32m----> 1\u001b[0;31m \u001b[0ml\u001b[0m \u001b[0;34m=\u001b[0m \u001b[0mloss\u001b[0m\u001b[0;34m(\u001b[0m\u001b[0mpred\u001b[0m\u001b[0;34m,\u001b[0m \u001b[0mtarget\u001b[0m\u001b[0;34m,\u001b[0m \u001b[0manchor\u001b[0m\u001b[0;34m)\u001b[0m\u001b[0;34m\u001b[0m\u001b[0;34m\u001b[0m\u001b[0m\n\u001b[0m",
      "\u001b[0;32m~/miniconda3/envs/yolov5/lib/python3.8/site-packages/torch/nn/modules/module.py\u001b[0m in \u001b[0;36m_call_impl\u001b[0;34m(self, *input, **kwargs)\u001b[0m\n\u001b[1;32m   1128\u001b[0m         if not (self._backward_hooks or self._forward_hooks or self._forward_pre_hooks or _global_backward_hooks\n\u001b[1;32m   1129\u001b[0m                 or _global_forward_hooks or _global_forward_pre_hooks):\n\u001b[0;32m-> 1130\u001b[0;31m             \u001b[0;32mreturn\u001b[0m \u001b[0mforward_call\u001b[0m\u001b[0;34m(\u001b[0m\u001b[0;34m*\u001b[0m\u001b[0minput\u001b[0m\u001b[0;34m,\u001b[0m \u001b[0;34m**\u001b[0m\u001b[0mkwargs\u001b[0m\u001b[0;34m)\u001b[0m\u001b[0;34m\u001b[0m\u001b[0;34m\u001b[0m\u001b[0m\n\u001b[0m\u001b[1;32m   1131\u001b[0m         \u001b[0;31m# Do not call functions when jit is used\u001b[0m\u001b[0;34m\u001b[0m\u001b[0;34m\u001b[0m\u001b[0;34m\u001b[0m\u001b[0m\n\u001b[1;32m   1132\u001b[0m         \u001b[0mfull_backward_hooks\u001b[0m\u001b[0;34m,\u001b[0m \u001b[0mnon_full_backward_hooks\u001b[0m \u001b[0;34m=\u001b[0m \u001b[0;34m[\u001b[0m\u001b[0;34m]\u001b[0m\u001b[0;34m,\u001b[0m \u001b[0;34m[\u001b[0m\u001b[0;34m]\u001b[0m\u001b[0;34m\u001b[0m\u001b[0;34m\u001b[0m\u001b[0m\n",
      "\u001b[0;32m<ipython-input-68-28d1cbf3eef7>\u001b[0m in \u001b[0;36mforward\u001b[0;34m(self, pred, target, anchors)\u001b[0m\n\u001b[1;32m     59\u001b[0m         \u001b[0mcorr_an\u001b[0m \u001b[0;34m=\u001b[0m \u001b[0mtorch\u001b[0m\u001b[0;34m.\u001b[0m\u001b[0mexp\u001b[0m\u001b[0;34m(\u001b[0m\u001b[0mpred\u001b[0m\u001b[0;34m[\u001b[0m\u001b[0;34m...\u001b[0m\u001b[0;34m,\u001b[0m\u001b[0;36m3\u001b[0m\u001b[0;34m:\u001b[0m\u001b[0;36m5\u001b[0m\u001b[0;34m]\u001b[0m\u001b[0;34m)\u001b[0m \u001b[0;34m*\u001b[0m \u001b[0manchors\u001b[0m\u001b[0;34m\u001b[0m\u001b[0;34m\u001b[0m\u001b[0m\n\u001b[1;32m     60\u001b[0m         \u001b[0mbox_pred\u001b[0m \u001b[0;34m=\u001b[0m \u001b[0mtorch\u001b[0m\u001b[0;34m.\u001b[0m\u001b[0mcat\u001b[0m\u001b[0;34m(\u001b[0m\u001b[0;34m[\u001b[0m\u001b[0mself\u001b[0m\u001b[0;34m.\u001b[0m\u001b[0msigmoid\u001b[0m\u001b[0;34m(\u001b[0m\u001b[0mpred\u001b[0m\u001b[0;34m[\u001b[0m\u001b[0;34m...\u001b[0m\u001b[0;34m,\u001b[0m\u001b[0;36m1\u001b[0m\u001b[0;34m:\u001b[0m\u001b[0;36m3\u001b[0m\u001b[0;34m]\u001b[0m\u001b[0;34m[\u001b[0m\u001b[0mobj_present\u001b[0m\u001b[0;34m]\u001b[0m\u001b[0;34m)\u001b[0m\u001b[0;34m,\u001b[0m \u001b[0mcorr_an\u001b[0m\u001b[0;34m[\u001b[0m\u001b[0mobj_present\u001b[0m\u001b[0;34m]\u001b[0m\u001b[0;34m]\u001b[0m\u001b[0;34m,\u001b[0m \u001b[0mdim\u001b[0m\u001b[0;34m=\u001b[0m\u001b[0;34m-\u001b[0m\u001b[0;36m1\u001b[0m\u001b[0;34m)\u001b[0m\u001b[0;34m\u001b[0m\u001b[0;34m\u001b[0m\u001b[0m\n\u001b[0;32m---> 61\u001b[0;31m         \u001b[0mious\u001b[0m \u001b[0;34m=\u001b[0m \u001b[0miou\u001b[0m\u001b[0;34m(\u001b[0m\u001b[0mbox_pred\u001b[0m\u001b[0;34m[\u001b[0m\u001b[0mobj_present\u001b[0m\u001b[0;34m]\u001b[0m\u001b[0;34m,\u001b[0m \u001b[0mtarget\u001b[0m\u001b[0;34m[\u001b[0m\u001b[0;34m...\u001b[0m\u001b[0;34m,\u001b[0m\u001b[0;36m1\u001b[0m\u001b[0;34m:\u001b[0m\u001b[0;36m5\u001b[0m\u001b[0;34m]\u001b[0m\u001b[0;34m[\u001b[0m\u001b[0mobj_present\u001b[0m\u001b[0;34m]\u001b[0m\u001b[0;34m)\u001b[0m\u001b[0;34m\u001b[0m\u001b[0;34m\u001b[0m\u001b[0m\n\u001b[0m\u001b[1;32m     62\u001b[0m         \u001b[0mobject_loss\u001b[0m \u001b[0;34m=\u001b[0m \u001b[0mself\u001b[0m\u001b[0;34m.\u001b[0m\u001b[0mmse\u001b[0m\u001b[0;34m(\u001b[0m\u001b[0mself\u001b[0m\u001b[0;34m.\u001b[0m\u001b[0msigmoid\u001b[0m\u001b[0;34m(\u001b[0m\u001b[0mpred\u001b[0m\u001b[0;34m[\u001b[0m\u001b[0;34m...\u001b[0m\u001b[0;34m,\u001b[0m\u001b[0;36m0\u001b[0m\u001b[0;34m:\u001b[0m\u001b[0;36m1\u001b[0m\u001b[0;34m]\u001b[0m\u001b[0;34m[\u001b[0m\u001b[0mobj_present\u001b[0m\u001b[0;34m]\u001b[0m\u001b[0;34m)\u001b[0m\u001b[0;34m,\u001b[0m \u001b[0mious\u001b[0m\u001b[0;34m*\u001b[0m\u001b[0mtarget\u001b[0m\u001b[0;34m[\u001b[0m\u001b[0;34m...\u001b[0m\u001b[0;34m,\u001b[0m\u001b[0;36m0\u001b[0m\u001b[0;34m:\u001b[0m\u001b[0;36m1\u001b[0m\u001b[0;34m]\u001b[0m\u001b[0;34m)\u001b[0m\u001b[0;34m\u001b[0m\u001b[0;34m\u001b[0m\u001b[0m\n\u001b[1;32m     63\u001b[0m \u001b[0;34m\u001b[0m\u001b[0m\n",
      "\u001b[0;31mIndexError\u001b[0m: too many indices for tensor of dimension 2"
     ]
    }
   ],
   "source": [
    "l = loss(pred, target, anchor)"
   ]
  },
  {
   "cell_type": "code",
   "execution_count": null,
   "id": "prompt-swift",
   "metadata": {},
   "outputs": [],
   "source": []
  }
 ],
 "metadata": {
  "kernelspec": {
   "display_name": "yolov5",
   "language": "python",
   "name": "yolov5"
  },
  "language_info": {
   "codemirror_mode": {
    "name": "ipython",
    "version": 3
   },
   "file_extension": ".py",
   "mimetype": "text/x-python",
   "name": "python",
   "nbconvert_exporter": "python",
   "pygments_lexer": "ipython3",
   "version": "3.8.10"
  }
 },
 "nbformat": 4,
 "nbformat_minor": 5
}
