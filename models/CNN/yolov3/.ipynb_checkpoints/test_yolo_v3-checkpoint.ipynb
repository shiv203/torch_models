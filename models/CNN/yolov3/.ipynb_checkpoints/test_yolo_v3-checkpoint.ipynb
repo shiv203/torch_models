{
 "cells": [
  {
   "cell_type": "code",
   "execution_count": 1,
   "id": "false-bradley",
   "metadata": {},
   "outputs": [],
   "source": [
    "import torch\n",
    "from torch import nn"
   ]
  },
  {
   "cell_type": "code",
   "execution_count": 2,
   "id": "latest-monroe",
   "metadata": {},
   "outputs": [
    {
     "data": {
      "text/plain": [
       "'1.12.1+cu102'"
      ]
     },
     "execution_count": 2,
     "metadata": {},
     "output_type": "execute_result"
    }
   ],
   "source": [
    "torch.__version__"
   ]
  },
  {
   "cell_type": "code",
   "execution_count": 86,
   "id": "alien-testimony",
   "metadata": {},
   "outputs": [],
   "source": [
    "class ConvLayers(nn.Module):\n",
    "    \"\"\" \n",
    "        Conv layers with batchnorm and activation layers\n",
    "    \"\"\"\n",
    "    def __init__(self, input_ch, output_ch, kernel_size, stride, padding=1):\n",
    "        super(ConvLayers, self).__init__()\n",
    "        if kernel_size == 1:\n",
    "            self.conv_layer = nn.Conv2d(input_ch, output_ch, kernel_size=kernel_size, stride=stride)\n",
    "        else:\n",
    "            self.conv_layer = nn.Conv2d(input_ch, output_ch, kernel_size=kernel_size, stride=stride, padding=padding)\n",
    "        self.norm = nn.BatchNorm2d(output_ch)\n",
    "        self.act = nn.GELU()\n",
    "\n",
    "    def forward(self, x):\n",
    "        return self.act(self.norm(self.conv_layer(x)))\n",
    "\n",
    "\n",
    "class ConvLayers_1(nn.Module):\n",
    "    \"\"\" \n",
    "        Conv layers with batchnorm and activation layers\n",
    "    \"\"\"\n",
    "    def __init__(self, input_ch, output_ch, kernel_size, stride):\n",
    "        super(ConvLayers_1, self).__init__()\n",
    "        if stride == 2:\n",
    "            self.conv_layer = nn.Conv2d(input_ch, output_ch, kernel_size=kernel_size, stride=stride)\n",
    "        else:\n",
    "            self.conv_layer = nn.Conv2d(input_ch, output_ch, kernel_size=kernel_size, stride=stride, padding=\"same\")\n",
    "        self.norm = nn.BatchNorm2d(output_ch)\n",
    "        self.act = nn.GELU()\n",
    "\n",
    "    def forward(self, x):\n",
    "        return self.act(self.norm(self.conv_layer(x)))\n",
    "\n",
    "\n",
    "class ConvBlock(nn.Module):\n",
    "    \"\"\" Conv block with residual connections \n",
    "    \"\"\"\n",
    "    def __init__(self, list_conv_layers, num_repeat):\n",
    "        super(ConvBlock, self).__init__()\n",
    "        self.repeat = num_repeat\n",
    "        temp_conv_layers = []\n",
    "        for layer in list_conv_layers:\n",
    "            temp_conv_layers.append(ConvLayers(layer[0], layer[1], layer[2], layer[3]))\n",
    "        self.conv_layers = nn.Sequential(*temp_conv_layers)\n",
    "\n",
    "    def forward(self, x):\n",
    "        x_ = x\n",
    "        for _ in range(self.repeat):\n",
    "            x = self.conv_layers(x)\n",
    "        return x + x_\n",
    "\n",
    "\n",
    "class DarkNetHead(nn.Module):\n",
    "\n",
    "    def __init__(self, model_parameters):\n",
    "        super(DarkNetHead, self).__init__()\n",
    "        temp_layers = []\n",
    "        for layers in model_parameters:\n",
    "            if layers[0] == \"cl\":\n",
    "                temp_layers.append(ConvLayers_1(layers[1], layers[2], layers[3], layers[4]))\n",
    "            elif layers[0] == \"cb\":\n",
    "                temp_layers.append(ConvBlock(layers[1], layers[2]))\n",
    "        self.conv_layers = nn.Sequential(*temp_layers)\n",
    "\n",
    "    def forward(self, x):\n",
    "        return self.conv_layers(x)\n",
    "\n",
    "\n",
    "\n",
    "\n",
    "model_parameters = [\n",
    "    (\"cl\", 3, 32, 3, 1),\n",
    "    (\"cl\", 32, 64, 3, 2),\n",
    "    (\"cb\", [(64, 32, 1, 1), (32, 64, 3, 1)], 1),\n",
    "    (\"cl\", 64, 128, 3, 2),\n",
    "    (\"cb\", [(128, 64, 1, 1), (64, 128, 3, 1)], 2),\n",
    "    (\"cl\", 128, 256, 3, 2),\n",
    "    (\"cb\", [(256, 128, 1, 1), (128, 256, 3, 1)], 8),\n",
    "    (\"cl\", 256, 512, 3, 2),\n",
    "    (\"cb\", [(512, 256, 1, 1), (256, 512, 3, 1)], 8),\n",
    "    (\"cl\", 512, 1024, 3, 2),\n",
    "    (\"cb\", [(1024, 512, 1, 1), (512, 1024, 3, 1)], 4)\n",
    "]\n",
    "\n"
   ]
  },
  {
   "cell_type": "code",
   "execution_count": 87,
   "id": "applicable-excuse",
   "metadata": {},
   "outputs": [
    {
     "name": "stdout",
     "output_type": "stream",
     "text": [
      "torch.Size([4, 32, 256, 256])\n",
      "torch.Size([4, 64, 256, 256])\n"
     ]
    }
   ],
   "source": [
    "conv1 = ConvLayers_1(64, 32, 1, 1)\n",
    "conv2 = ConvLayers_1(32, 64, 7, 1)\n",
    "inp = torch.rand((4, 64, 256, 256))\n",
    "inp1 = conv1(inp)\n",
    "print(inp1.shape)\n",
    "inp2 = conv2(inp1)\n",
    "print(inp2.shape)"
   ]
  },
  {
   "cell_type": "code",
   "execution_count": 88,
   "id": "proved-doctrine",
   "metadata": {},
   "outputs": [],
   "source": [
    "inp = torch.rand((4, 3, 256, 256))"
   ]
  },
  {
   "cell_type": "code",
   "execution_count": 89,
   "id": "modular-costs",
   "metadata": {},
   "outputs": [],
   "source": [
    "model = DarkNetHead(model_parameters)"
   ]
  },
  {
   "cell_type": "code",
   "execution_count": 90,
   "id": "incoming-fundamentals",
   "metadata": {},
   "outputs": [
    {
     "data": {
      "text/plain": [
       "torch.Size([4, 1024, 7, 7])"
      ]
     },
     "execution_count": 90,
     "metadata": {},
     "output_type": "execute_result"
    }
   ],
   "source": [
    "out = model(inp)\n",
    "out.shape"
   ]
  },
  {
   "cell_type": "code",
   "execution_count": 21,
   "id": "stuck-legend",
   "metadata": {},
   "outputs": [],
   "source": [
    "class ConvSame(nn.Module):\n",
    "    \n",
    "    def __init__(self, in_ch, out_ch, k, s, norm=True, act=True):\n",
    "        super(ConvSame, self).__init__()\n",
    "        p = k//2\n",
    "        self.conv = nn.Conv2d(in_ch, out_ch, k, s, p)\n",
    "        if norm:\n",
    "            self.norm = nn.BatchNorm2d(out_ch)\n",
    "        else:\n",
    "            self.norm = nn.Identity()\n",
    "        if act:\n",
    "            self.act = nn.GELU()\n",
    "        else:\n",
    "            self.act = nn.Identity()\n",
    "        \n",
    "    def forward(self, x):\n",
    "        return self.act(self.norm(self.conv(x)))\n",
    "\n",
    "class ConvPad(nn.Module):\n",
    "    \n",
    "    def __init__(self, in_ch, out_ch, k, s, p=1, norm=True, act=True):\n",
    "        super(ConvPad, self).__init__()\n",
    "        self.conv = nn.Conv2d(in_ch, out_ch, k, s, p)\n",
    "        if norm:\n",
    "            self.norm = nn.BatchNorm2d(out_ch)\n",
    "        else:\n",
    "            self.norm = nn.Identity()\n",
    "        if act:\n",
    "            self.act = nn.GELU()\n",
    "        else:\n",
    "            self.act = nn.Identity()\n",
    "        \n",
    "    def forward(self, x):\n",
    "        return self.act(self.norm(self.conv(x)))\n",
    "\n",
    "class ConvBlock(nn.Module):\n",
    "    \n",
    "    def __init__(self, in_ch):\n",
    "        super(ConvBlock, self).__init__()\n",
    "        out_ch = in_ch // 2\n",
    "        self.conv1 = ConvSame(in_ch, out_ch, k=3, s=1, norm=False)\n",
    "        self.conv2 = ConvSame(in_ch, out_ch, k=3, s=1)\n",
    "    \n",
    "    def forward(self, x):\n",
    "        x_ = x\n",
    "        x = self.conv2(self.conv1(x))\n",
    "        return x + x_\n",
    "    \n",
    "\n",
    "class RepeatBlock(nn.Module):\n",
    "    \n",
    "    def __init__(self, in_ch, repeat):\n",
    "        super(RepeatBlock, self).__init__()\n",
    "        self.repeat = repeat\n",
    "        self.conv = ConvBlock(in_ch)\n",
    "        \n",
    "    def forward(self, x):\n",
    "        for _ in range(self.repeat):\n",
    "            x = self.conv(x)\n",
    "        return x\n",
    "    \n",
    "class HeadBlock1(nn.Module):\n",
    "    \n",
    "    def __init__(self, in_ch=1024 out_ch=512):\n",
    "        super(HeadBlock1, self).__init__()\n",
    "        self.conv1 = ConvSame(in_ch, out_ch, 1, 1)\n",
    "        self.conv2 = ConvSame(out_ch, in_ch, 3, 1)\n",
    "        self.conv3 = ConvSame(in_ch, out_ch, 1, 1)\n",
    "        self.conv4 = ConvSame(out_ch, in_ch, 3, 1)\n",
    "        \n",
    "    def forward(self, x):\n",
    "        return self.conv4(self.conv3(self.conv2(self.conv1(x))))\n",
    "    \n",
    "class HeadBlock2(nn.Module):\n",
    "    \n",
    "    def __init__(self):\n",
    "        super(HeadBlock2, self).__init__()\n",
    "        \n",
    "    def forward(self):\n",
    "        pass\n",
    "    \n",
    "class HeadBlock3(nn.Module):\n",
    "    \n",
    "    def __init__(self):\n",
    "        super(HeadBlock3, self).__init__()\n",
    "        \n",
    "    def forward(self):\n",
    "        pass\n",
    "    \n",
    "    \n",
    "class BackBone(nn.Module):\n",
    "    \n",
    "    def __init__(self):\n",
    "        super(BackBone, self).__init__()\n",
    "        \n",
    "        self.conv1 = ConvSame(3, 32, 3, 1)\n",
    "        self.conv2 = ConvPad(32, 64, 3, 2)\n",
    "        \n",
    "        self.conv3 = RepeatBlock(64, 1)\n",
    "        self.conv4 = ConvPad(64, 128, 3, 2)\n",
    "        \n",
    "        self.conv5 = RepeatBlock(128, 2)\n",
    "        self.conv6 = ConvPad(128, 256, 3, 2)\n",
    "        \n",
    "        self.conv7 = RepeatBlock(256, 8)\n",
    "        self.conv8 = ConvPad(256, 512, 3, 2)\n",
    "        \n",
    "        self.conv9 = RepeatBlock(512, 8)\n",
    "        self.conv10 = ConvPad(512, 1024, 3, 2)\n",
    "        \n",
    "        self.conv11 = RepeatBlock(1024, 4)\n",
    "        \n",
    "        \n",
    "    def forward(self, x):\n",
    "        x = self.conv1(x)\n",
    "        x = self.conv2(x)\n",
    "        x = self.conv3(x)\n",
    "        x = self.conv4(x)\n",
    "        x = self.conv5(x)\n",
    "        x = self.conv6(x)\n",
    "        x = self.conv7(x)\n",
    "        return x\n",
    "        \n",
    "\n"
   ]
  },
  {
   "cell_type": "code",
   "execution_count": 32,
   "id": "paperback-antique",
   "metadata": {},
   "outputs": [],
   "source": [
    "m = ConvPad(3,32,3,2)"
   ]
  },
  {
   "cell_type": "code",
   "execution_count": 33,
   "id": "registered-camcorder",
   "metadata": {},
   "outputs": [],
   "source": [
    "inp = torch.rand((4,3,224,224))"
   ]
  },
  {
   "cell_type": "code",
   "execution_count": 34,
   "id": "cardiovascular-truth",
   "metadata": {},
   "outputs": [
    {
     "data": {
      "text/plain": [
       "torch.Size([4, 32, 112, 112])"
      ]
     },
     "execution_count": 34,
     "metadata": {},
     "output_type": "execute_result"
    }
   ],
   "source": [
    "o = m(inp)\n",
    "o.shape"
   ]
  },
  {
   "cell_type": "code",
   "execution_count": null,
   "id": "consecutive-industry",
   "metadata": {},
   "outputs": [],
   "source": []
  }
 ],
 "metadata": {
  "interpreter": {
   "hash": "743f57b7bc7c41e76c22e315820aa88d3233c2a2ed8f0a7f9f0bd9615bf41eb1"
  },
  "kernelspec": {
   "display_name": "yolov5",
   "language": "python",
   "name": "yolov5"
  },
  "language_info": {
   "codemirror_mode": {
    "name": "ipython",
    "version": 3
   },
   "file_extension": ".py",
   "mimetype": "text/x-python",
   "name": "python",
   "nbconvert_exporter": "python",
   "pygments_lexer": "ipython3",
   "version": "3.8.10"
  }
 },
 "nbformat": 4,
 "nbformat_minor": 5
}
