{
 "cells": [
  {
   "cell_type": "code",
   "execution_count": 1,
   "id": "shared-overhead",
   "metadata": {},
   "outputs": [],
   "source": [
    "import torch\n",
    "from torch import nn"
   ]
  },
  {
   "cell_type": "code",
   "execution_count": 2,
   "id": "structured-example",
   "metadata": {},
   "outputs": [],
   "source": [
    "def autopad(kernel_size, padding=None):\n",
    "    \"\"\" returns the value to padd to keep the \n",
    "    output dimensions of conv layer same\n",
    "    \"\"\"\n",
    "    if p is not None:\n",
    "        p = k // 2 if isinstance(k, int) else [x//2 for x in k]\n",
    "    return p"
   ]
  },
  {
   "cell_type": "code",
   "execution_count": null,
   "id": "rising-spiritual",
   "metadata": {},
   "outputs": [],
   "source": []
  }
 ],
 "metadata": {
  "kernelspec": {
   "display_name": "yolov5",
   "language": "python",
   "name": "yolov5"
  },
  "language_info": {
   "codemirror_mode": {
    "name": "ipython",
    "version": 3
   },
   "file_extension": ".py",
   "mimetype": "text/x-python",
   "name": "python",
   "nbconvert_exporter": "python",
   "pygments_lexer": "ipython3",
   "version": "3.8.10"
  }
 },
 "nbformat": 4,
 "nbformat_minor": 5
}
