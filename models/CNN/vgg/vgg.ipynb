{
 "cells": [
  {
   "cell_type": "code",
   "execution_count": 4,
   "id": "boring-freedom",
   "metadata": {},
   "outputs": [],
   "source": [
    "import torch\n",
    "import torch.nn as nn"
   ]
  },
  {
   "cell_type": "code",
   "execution_count": 21,
   "metadata": {},
   "outputs": [],
   "source": [
    "class CNN(nn.Module):\n",
    "\n",
    "    def __init__(self, input_ch, output_ch):\n",
    "        super(CNN, self).__init__()\n",
    "        self.conv = nn.Conv2d(in_channels=input_ch, out_channels=output_ch, kernel_size=3, stride=1, padding=1)\n",
    "        self.norm = nn.BatchNorm2d(output_ch)\n",
    "        self.act = nn.ReLU()\n",
    "\n",
    "    def forward(self, x):\n",
    "        return self.act(self.normx = self.inception(x)(self.conv(x)))\n",
    "\n",
    "class VGG(nn.Module):\n",
    "\n",
    "    def __init__(self, input_ch, arr, num_class):\n",
    "        super(VGG, self).__init__()\n",
    "        self.model_arr = arr\n",
    "        curr_input = input_ch\n",
    "        self.layers  = []\n",
    "        for layer in self.model_arr:\n",
    "            if isinstance(layer, int):\n",
    "                self.layers.append(CNN(curr_input, layer))\n",
    "                curr_input = layer\n",
    "            if isinstance(layer, str):\n",
    "                self.layers.append(nn.MaxPool2d(kernel_size=2, stride=2))\n",
    "\n",
    "\n",
    "\n",
    "        self.fcs = nn.Sequential(\n",
    "            nn.Linear(512*7*7, 4096),\n",
    "            nn.ReLU(), \n",
    "            nn.Dropout(0.5), \n",
    "            nn.Linear(4096, 4096), \n",
    "            nn.ReLU(),\n",
    "            nn.Dropout(0.5), \n",
    "            nn.Linear(4096, num_class)\n",
    "        )\n",
    "\n",
    "        self.layers = nn.Sequential(*self.layers)\n",
    "        self.flat = nn.Flatten()\n",
    "     \n",
    "\n",
    "    def forward(self, x):\n",
    "        x = self.layers(x)\n",
    "        x = self.flat(x)\n",
    "        x = self.fcs(x)\n",
    "        return x"
   ]
  },
  {
   "cell_type": "code",
   "execution_count": 22,
   "metadata": {},
   "outputs": [
    {
     "data": {
      "text/plain": [
       "torch.Size([3, 10])"
      ]
     },
     "execution_count": 22,
     "metadata": {},
     "output_type": "execute_result"
    }
   ],
   "source": [
    "inp = torch.ones((3, 3, 224, 224))\n",
    "model = VGG(3, [64, 64, \"M\", 128, 128, \"M\", 256, 256, 256,\"M\", 512, 512, 512, \"M\", 512, 512, 512, \"M\"], 10)\n",
    "out = model(inp)\n",
    "out.shape"
   ]
  },
  {
   "cell_type": "code",
   "execution_count": 24,
   "metadata": {},
   "outputs": [
    {
     "data": {
      "text/plain": [
       "134309962"
      ]
     },
     "execution_count": 24,
     "metadata": {},
     "output_type": "execute_result"
    }
   ],
   "source": [
    "num_para = sum(p.numel() for p in model.parameters() if p.requires_grad)\n",
    "num_para"
   ]
  },
  {
   "cell_type": "code",
   "execution_count": null,
   "metadata": {},
   "outputs": [],
   "source": []
  }
 ],
 "metadata": {
  "interpreter": {
   "hash": "743f57b7bc7c41e76c22e315820aa88d3233c2a2ed8f0a7f9f0bd9615bf41eb1"
  },
  "kernelspec": {
   "display_name": "Python 3.8.10 64-bit ('yolov5': conda)",
   "name": "python3"
  },
  "language_info": {
   "codemirror_mode": {
    "name": "ipython",
    "version": 3
   },
   "file_extension": ".py",
   "mimetype": "text/x-python",
   "name": "python",
   "nbconvert_exporter": "python",
   "pygments_lexer": "ipython3",
   "version": "3.8.10"
  }
 },
 "nbformat": 4,
 "nbformat_minor": 5
}
