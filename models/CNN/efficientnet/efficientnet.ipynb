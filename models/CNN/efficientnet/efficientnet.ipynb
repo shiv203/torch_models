{
 "cells": [
  {
   "cell_type": "code",
   "execution_count": 3,
   "id": "executed-carbon",
   "metadata": {},
   "outputs": [],
   "source": [
    "import torch\n",
    "import torch.nn as nn\n",
    "from math import ceil"
   ]
  },
  {
   "cell_type": "code",
   "execution_count": 4,
   "id": "amateur-liechtenstein",
   "metadata": {},
   "outputs": [],
   "source": [
    "## cnn block\n",
    "\n",
    "## sequeeze excietation\n",
    "\n",
    "## inverted residual block\n",
    "\n",
    "class DeepConv(nn.Module):\n",
    "\n",
    "    def __init__(self, i, o, k, s, p, g):\n",
    "        super(DeepConv, self).__init__()\n",
    "        self.conv = nn.Conv2d(i, o, k, s, p, g, bias=False)\n",
    "        self.norm = nn.BatchNorm2d(o)\n",
    "        self.act = nn.SELU()\n",
    "    \n",
    "    def forward(self, x):\n",
    "        return self.act(self.norm(self.conv(x)))\n",
    "\n",
    "\n",
    "class SqueezeEx(nn.Module):\n",
    "\n",
    "    def __init__(self, i, reduced_dim):\n",
    "        super(SqueezeEx, self).__init__()\n",
    "        self.squeeze = nn.Sequential(\n",
    "            nn.AdaptiveAvgPool2d(1),\n",
    "            nn.Conv2d(i, reduced_dim, 1), \n",
    "            nn.SiLU(), \n",
    "            nn.Conv2d(reduced_dim, i, 1), \n",
    "            nn.Sigmoid()\n",
    "        )\n",
    "\n",
    "    def forward(self, x):\n",
    "        return x * self.squeeze(x)\n",
    "\n",
    "\n",
    "class InvertedResidualBlock(nn.Module):\n",
    "\n",
    "    def __init__(self, i, o, k, s, p, expand_ratio, reduction_dim=4, droppath=0.5):\n",
    "        super(InvertedResidualBlock, self).__init__()\n",
    "        self.droppath = droppath\n",
    "        self.use_residual = i == o and s == 1\n",
    "        self.hidden_dim = i * expand_ratio\n",
    "        self.expand = i != hiddem_dim\n",
    "        reduced_dim = int(i/reduction_dim)\n",
    "\n",
    "        if self.expand:\n",
    "            self.expand_conv = DeepConv(i, self.hidden_dim, 3, 1, 1)\n",
    "\n",
    "        self.conv = nn.Sequential(\n",
    "            DeepConv(self.hidden_dim, self.hidden_dim, k, s, p, self.hidden_dim),\n",
    "            SqueezeEx(self.hidden_dim, reduced_dim), \n",
    "            nn.Conv2d(self.hidden_dim, o, 1, bias=False), \n",
    "            nn.BatchNorm2d(o)\n",
    "        )\n",
    "\n",
    "    def shochastic_depth(self, x):\n",
    "\n",
    "        if not self.training:\n",
    "            return x\n",
    "\n",
    "        binary_tensor = torch.rand(x.shape[0], 1, 1, 1, device=x.device) < self.droppath\n",
    "        return torch.div(self.droppath , x) * binary_tensor\n",
    "\n",
    "    def forward(self, inputs):\n",
    "        x = self.expand_conv(x) if self.expand else inputs\n",
    "\n",
    "        if self.use_residual:\n",
    "            return self.shochastic_depth(self.conv(x)) + inputs\n",
    "        else:\n",
    "            return self.conv(x)\n",
    "\n",
    "\n"
   ]
  },
  {
   "cell_type": "code",
   "execution_count": null,
   "id": "statistical-large",
   "metadata": {},
   "outputs": [],
   "source": [
    "## deep conv\n",
    "\n",
    "## inverted conv"
   ]
  }
 ],
 "metadata": {
  "interpreter": {
   "hash": "743f57b7bc7c41e76c22e315820aa88d3233c2a2ed8f0a7f9f0bd9615bf41eb1"
  },
  "kernelspec": {
   "display_name": "Python 3",
   "language": "python",
   "name": "python3"
  },
  "language_info": {
   "codemirror_mode": {
    "name": "ipython",
    "version": 3
   },
   "file_extension": ".py",
   "mimetype": "text/x-python",
   "name": "python",
   "nbconvert_exporter": "python",
   "pygments_lexer": "ipython3",
   "version": "3.6.13"
  }
 },
 "nbformat": 4,
 "nbformat_minor": 5
}
