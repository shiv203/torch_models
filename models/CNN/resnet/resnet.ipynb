{
 "cells": [
  {
   "cell_type": "code",
   "execution_count": 1,
   "id": "covered-template",
   "metadata": {},
   "outputs": [],
   "source": [
    "import torch\n",
    "import torch.nn as nn"
   ]
  },
  {
   "cell_type": "code",
   "execution_count": 16,
   "metadata": {},
   "outputs": [],
   "source": [
    "class Block(nn.Module):\n",
    "\n",
    "    def __init__(self, in_ch, out_ch, identity_downsample=None, stride=1):\n",
    "        super(Block, self).__init__()\n",
    "        self.expansion = 4\n",
    "        self.identity_downsample = identity_downsample\n",
    "        self.conv1 = nn.Conv2d(in_ch, out_ch, kernel_size=1, stride=1, padding=0)\n",
    "        self.bn1 = nn.BatchNorm2d(out_ch)\n",
    "        self.relu = nn.ReLU()\n",
    "\n",
    "        self.conv2 = nn.Conv2d(out_ch, out_ch, kernel_size=3, stride=stride, padding=1)\n",
    "        self.bn2 = nn.BatchNorm2d(out_ch)\n",
    "\n",
    "        self.conv3 = nn.Conv2d(out_ch, out_ch * 4, kernel_size=1, stride=1, padding=0)\n",
    "        self.bn3 = nn.BatchNorm2d(out_ch * 4)\n",
    "\n",
    "    def forward(self, x):\n",
    "        x_ = x\n",
    "\n",
    "        x = self.conv1(x)\n",
    "        x = self.bn1(x)\n",
    "        x = self.relu(x)\n",
    "\n",
    "        x = self.conv2(x)\n",
    "        x = self.bn2(x)\n",
    "        x = self.relu(x)\n",
    "\n",
    "        x = self.conv3(x)\n",
    "        x = self.bn3(x)\n",
    "        \n",
    "        if self.identity_downsample is not None:\n",
    "            x_ = self.identity_downsample(x_)\n",
    "\n",
    "        return self.relu(x + x_)\n",
    "\n",
    "\n",
    "class ResnetBlock(nn.Module):\n",
    "\n",
    "    def __init__(self, inp, out, num_repeat, stride):\n",
    "        super(ResnetBlock, self).__init__()\n",
    "        self.num_repeat = num_repeat\n",
    "        self.layers = []\n",
    "        if stride != 1 or inp != out * 4:\n",
    "            self.identity_downsample = nn.Sequential(\n",
    "                nn.Conv2d(inp, out*4, kernel_size=1, stride=stride),\n",
    "                nn.BatchNorm2d(out*4)\n",
    "            )\n",
    "        self.layers.append(Block(inp, out, self.identity_downsample, stride))\n",
    "\n",
    "        inp = out * 4\n",
    "        for i in range(self.num_repeat - 1):\n",
    "            self.layers.append(Block(inp, out))\n",
    "\n",
    "        self.layers = nn.Sequential(*self.layers)\n",
    "\n",
    "    def forward(self, x):\n",
    "        return self.layers(x)\n",
    "\n",
    "\n",
    "class Resnet(nn.Module):\n",
    "\n",
    "    def __init__(self, layers, img_ch, num_class):\n",
    "        super(Resnet, self).__init__()\n",
    "        self.conv1 = nn.Conv2d(img_ch, 64, kernel_size=7, stride=2, padding=3)\n",
    "        self.bn1 = nn.BatchNorm2d(64)\n",
    "        self.relu = nn.ReLU()\n",
    "        self.maxpool1 = nn.MaxPool2d(kernel_size=3, stride=2, padding=1)\n",
    "\n",
    "        self.layer1 = ResnetBlock(64, 64, layers[0], 1)\n",
    "        self.layer2 = ResnetBlock(64*4, 128, layers[1], 2)\n",
    "        self.layer3 = ResnetBlock(128*4, 256, layers[2], 2)\n",
    "        self.layer4 = ResnetBlock(256*4, 512, layers[3], 2)\n",
    "\n",
    "        self.avgpool = nn.AdaptiveAvgPool2d((1, 1))\n",
    "        self.flat = nn.Flatten()\n",
    "        self.fc1 = nn.Linear(512*4, num_class)\n",
    "\n",
    "    def forward(self, x):\n",
    "        x = self.conv1(x)\n",
    "        x = self.bn1(x)\n",
    "        x = self.relu(x)\n",
    "        x = self.maxpool1(x)\n",
    "\n",
    "        x = self.layer1(x)\n",
    "        #print(x.shape)\n",
    "        x = self.layer2(x)\n",
    "        #print(x.shape)\n",
    "        x = self.layer3(x)\n",
    "        #print(x.shape)\n",
    "        x = self.layer4(x)\n",
    "        #print(x.shape)\n",
    "        x = self.avgpool(x)\n",
    "        #print(x.shape)\n",
    "        x = self.flat(x)\n",
    "        x = self.fc1(x)\n",
    "        return x"
   ]
  },
  {
   "cell_type": "code",
   "execution_count": 17,
   "metadata": {},
   "outputs": [],
   "source": [
    "model = Resnet([3,4,6,3], 3, 1000)"
   ]
  },
  {
   "cell_type": "code",
   "execution_count": 18,
   "metadata": {},
   "outputs": [
    {
     "name": "stdout",
     "output_type": "stream",
     "text": [
      "torch.Size([3, 256, 56, 56])\n",
      "torch.Size([3, 512, 28, 28])\n",
      "torch.Size([3, 1024, 14, 14])\n",
      "torch.Size([3, 2048, 7, 7])\n",
      "torch.Size([3, 2048, 1, 1])\n"
     ]
    },
    {
     "data": {
      "text/plain": [
       "torch.Size([3, 1000])"
      ]
     },
     "execution_count": 18,
     "metadata": {},
     "output_type": "execute_result"
    }
   ],
   "source": [
    "inp = torch.ones((3, 3, 224, 224))\n",
    "out = model(inp)\n",
    "out.shape"
   ]
  },
  {
   "cell_type": "code",
   "execution_count": 15,
   "metadata": {},
   "outputs": [
    {
     "data": {
      "text/plain": [
       "25583592"
      ]
     },
     "execution_count": 15,
     "metadata": {},
     "output_type": "execute_result"
    }
   ],
   "source": [
    "num_para = sum(p.numel() for p in model.parameters() if p.requires_grad)\n",
    "num_para"
   ]
  },
  {
   "cell_type": "code",
   "execution_count": null,
   "metadata": {},
   "outputs": [],
   "source": []
  }
 ],
 "metadata": {
  "interpreter": {
   "hash": "743f57b7bc7c41e76c22e315820aa88d3233c2a2ed8f0a7f9f0bd9615bf41eb1"
  },
  "kernelspec": {
   "display_name": "Python 3.8.10 64-bit ('yolov5': conda)",
   "name": "python3"
  },
  "language_info": {
   "codemirror_mode": {
    "name": "ipython",
    "version": 3
   },
   "file_extension": ".py",
   "mimetype": "text/x-python",
   "name": "python",
   "nbconvert_exporter": "python",
   "pygments_lexer": "ipython3",
   "version": "3.8.10"
  }
 },
 "nbformat": 4,
 "nbformat_minor": 5
}
