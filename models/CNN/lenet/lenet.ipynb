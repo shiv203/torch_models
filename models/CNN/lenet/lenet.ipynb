{
 "cells": [
  {
   "cell_type": "code",
   "execution_count": 1,
   "id": "opponent-suggestion",
   "metadata": {},
   "outputs": [],
   "source": [
    "import torch\n",
    "import torch.nn as nn"
   ]
  },
  {
   "cell_type": "code",
   "execution_count": 24,
   "id": "artistic-stake",
   "metadata": {},
   "outputs": [],
   "source": [
    "class Lenet(nn.Module):\n",
    "    \n",
    "    def __init__(self, input_channel, num_class):\n",
    "        super(Lenet, self).__init__()\n",
    "        self.act = nn.ReLU()\n",
    "        self.max = nn.AvgPool2d(kernel_size=2, stride=2)\n",
    "        self.conv1 = nn.Conv2d(kernel_size=5,in_channels=input_channel,out_channels=6)\n",
    "        self.conv2 = nn.Conv2d(kernel_size=5,in_channels=6,out_channels=16)\n",
    "        self.conv3 = nn.Conv2d(kernel_size=5,in_channels=16,out_channels=120)\n",
    "        self.lin1 = nn.Linear(120, 120)\n",
    "        self.lin2 = nn.Linear(120, 84)\n",
    "        self.lin3 = nn.Linear(84, num_class)\n",
    "        self.flat = nn.Flatten()\n",
    "        \n",
    "    \n",
    "    def forward(self, x):\n",
    "        x = self.conv1(x)\n",
    "        x = self.act(x)\n",
    "        x = self.max(x)\n",
    "        x = self.conv2(x)\n",
    "        x = self.act(x)\n",
    "        x = self.max(x)\n",
    "        x = self.act(x)\n",
    "        x = self.conv3(x)\n",
    "        x = self.act(x)\n",
    "        x = self.flat(x)\n",
    "        x = self.lin1(x)\n",
    "        x = self.act(x)\n",
    "        x = self.lin2(x)\n",
    "        x = self.act(x)\n",
    "        x = self.lin3(x)\n",
    "\n",
    "        return x\n",
    "        "
   ]
  },
  {
   "cell_type": "code",
   "execution_count": 25,
   "id": "another-marketplace",
   "metadata": {},
   "outputs": [
    {
     "data": {
      "text/plain": [
       "torch.Size([3, 10])"
      ]
     },
     "execution_count": 25,
     "metadata": {},
     "output_type": "execute_result"
    }
   ],
   "source": [
    "inp = torch.ones((3, 1, 32, 32))\n",
    "model = Lenet(1, 10)\n",
    "out = model(inp)\n",
    "out.shape"
   ]
  },
  {
   "cell_type": "code",
   "execution_count": 26,
   "metadata": {},
   "outputs": [
    {
     "data": {
      "text/plain": [
       "76226"
      ]
     },
     "execution_count": 26,
     "metadata": {},
     "output_type": "execute_result"
    }
   ],
   "source": [
    "num_param = sum(p.numel() for p in model.parameters() if p.requires_grad)\n",
    "num_param"
   ]
  },
  {
   "cell_type": "code",
   "execution_count": 21,
   "metadata": {},
   "outputs": [],
   "source": []
  },
  {
   "cell_type": "code",
   "execution_count": null,
   "metadata": {},
   "outputs": [],
   "source": []
  },
  {
   "cell_type": "code",
   "execution_count": null,
   "metadata": {},
   "outputs": [],
   "source": []
  }
 ],
 "metadata": {
  "interpreter": {
   "hash": "743f57b7bc7c41e76c22e315820aa88d3233c2a2ed8f0a7f9f0bd9615bf41eb1"
  },
  "kernelspec": {
   "display_name": "Python 3.8.10 64-bit ('yolov5': conda)",
   "name": "python3"
  },
  "language_info": {
   "codemirror_mode": {
    "name": "ipython",
    "version": 3
   },
   "file_extension": ".py",
   "mimetype": "text/x-python",
   "name": "python",
   "nbconvert_exporter": "python",
   "pygments_lexer": "ipython3",
   "version": "3.8.10"
  }
 },
 "nbformat": 4,
 "nbformat_minor": 5
}
